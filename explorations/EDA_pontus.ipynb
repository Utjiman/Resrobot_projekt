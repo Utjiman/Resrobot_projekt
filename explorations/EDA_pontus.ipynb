{
 "cells": [
  {
   "cell_type": "markdown",
   "metadata": {},
   "source": [
    "## EDA  "
   ]
  },
  {
   "cell_type": "code",
   "execution_count": 1,
   "metadata": {},
   "outputs": [
    {
     "name": "stderr",
     "output_type": "stream",
     "text": [
      "Python-dotenv could not parse statement starting at line 2\n",
      "Python-dotenv could not parse statement starting at line 2\n"
     ]
    },
    {
     "name": "stdout",
     "output_type": "stream",
     "text": [
      "Name                                               extId\n",
      "UMEÅ                                               740098065\n",
      "Umeå Centralstation                                740000190\n",
      "Umeå Busstation                                    740020461\n",
      "Umeå Östra station                                 740001581\n",
      "Umeå Vasaplan                                      740020116\n",
      "Umeå Airport                                       740025159\n",
      "Umeå Ålidhem centrum                               740023156\n",
      "Umeå Ålidhöjd                                      740045439\n",
      "Umeå Älvans väg                                    740045410\n",
      "Umeå Alviksgränd                                   740045280\n"
     ]
    }
   ],
   "source": [
    "from backend.trips import TripPlanner\n",
    "from backend.connect_to_api import ResRobot\n",
    "from dotenv import load_dotenv\n",
    "import os\n",
    "import requests\n",
    "\n",
    "load_dotenv()\n",
    "\n",
    "API_KEY = os.getenv(\"API_KEY\")\n",
    "\n",
    "resrobot = ResRobot()\n",
    "\n",
    "resrobot.access_id_from_location(\"Umeå\")"
   ]
  },
  {
   "cell_type": "code",
   "execution_count": 2,
   "metadata": {},
   "outputs": [
    {
     "name": "stdout",
     "output_type": "stream",
     "text": [
      "Name                                               extId\n",
      "GÖTEBORG                                           740098001\n",
      "Göteborg Centralstation                            740000002\n",
      "Göteborg Sävenäs lokstation                        740016365\n",
      "GÖTEBORG GAMLESTADEN                               740098526\n",
      "Göteborg Korsvägen                                 740015578\n",
      "Göteborg Kungsportsplatsen                         740016358\n",
      "Göteborg Stenpiren                                 740072430\n",
      "Göteborg Eketrägatan                               740025624\n",
      "Göteborg Vårväderstorget                           740025707\n",
      "Göteborg Axel Dahlströms torg                      740025608\n"
     ]
    }
   ],
   "source": [
    "resrobot.access_id_from_location(\"Göteborg\")"
   ]
  },
  {
   "cell_type": "code",
   "execution_count": null,
   "metadata": {},
   "outputs": [
    {
     "data": {
      "text/plain": [
       "dict_keys(['Departure', 'TechnicalMessages', 'serverVersion', 'dialectVersion', 'planRtTs', 'requestId'])"
      ]
     },
     "execution_count": 59,
     "metadata": {},
     "output_type": "execute_result"
    }
   ],
   "source": [
    "station_id =740000002\n",
    "\n",
    "\n",
    "url =  f\"https://api.resrobot.se/v2.1/departureBoard?id={station_id}&format=json&accessId={API_KEY}\"\n",
    "\n",
    "response = requests.get(url)\n",
    "results = response.json()\n",
    "results.keys()\n"
   ]
  },
  {
   "cell_type": "code",
   "execution_count": 12,
   "metadata": {},
   "outputs": [],
   "source": [
    "import pandas as pd\n",
    "\n",
    "def cleaned_station_board(station_id):\n",
    "    \n",
    "    url = f\"https://api.resrobot.se/v2.1/departureBoard?id={station_id}&format=json&accessId={API_KEY}\"\n",
    "\n",
    "    response = requests.get(url)\n",
    "    results = response.json()\n",
    "\n",
    "    df_timetable = pd.DataFrame(results[\"Departure\"])           \n",
    "    df_timetable_cleaned = df_timetable[[\"name\", \"stop\",\"date\",\"time\"]]\n",
    "    df_timetable_cleaned = df_timetable_cleaned[\"name\"].value_counts()\n",
    "    return df_timetable_cleaned\n",
    "          \n"
   ]
  },
  {
   "cell_type": "code",
   "execution_count": 13,
   "metadata": {},
   "outputs": [
    {
     "data": {
      "text/plain": [
       "name\n",
       "Länstrafik - Spårväg 2    25\n",
       "Länstrafik - Spårväg 6    25\n",
       "Länstrafik - Spårväg 8    24\n",
       "Länstrafik - Buss X4      17\n",
       "Länstrafik - Buss 18      16\n",
       "Länstrafik - Buss 61      14\n",
       "Länstrafik - Buss 63      13\n",
       "Länstrafik - Spårväg 5    12\n",
       "Länstrafik - Spårväg 4    12\n",
       "Länstrafik - Buss RÖD     10\n",
       "Länstrafik - Buss 758      4\n",
       "Länstrafik - Buss 300      3\n",
       "Länstrafik - Buss 100      3\n",
       "Flygtransfer - Buss .      2\n",
       "Länstrafik - Buss 101      1\n",
       "Expressbuss 611            1\n",
       "Name: count, dtype: int64"
      ]
     },
     "execution_count": 13,
     "metadata": {},
     "output_type": "execute_result"
    }
   ],
   "source": [
    "cleaned_station_board(740015578)\n"
   ]
  },
  {
   "cell_type": "code",
   "execution_count": null,
   "metadata": {},
   "outputs": [],
   "source": []
  }
 ],
 "metadata": {
  "kernelspec": {
   "display_name": "Venv",
   "language": "python",
   "name": "python3"
  },
  "language_info": {
   "codemirror_mode": {
    "name": "ipython",
    "version": 3
   },
   "file_extension": ".py",
   "mimetype": "text/x-python",
   "name": "python",
   "nbconvert_exporter": "python",
   "pygments_lexer": "ipython3",
   "version": "3.11.7"
  }
 },
 "nbformat": 4,
 "nbformat_minor": 2
}
