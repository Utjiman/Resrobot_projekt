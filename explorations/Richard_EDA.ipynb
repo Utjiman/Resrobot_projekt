{
 "cells": [
  {
   "cell_type": "markdown",
   "metadata": {},
   "source": [
    "# Stop visualization EDA"
   ]
  },
  {
   "cell_type": "markdown",
   "metadata": {},
   "source": [
    "#### Stop lookup api"
   ]
  },
  {
   "cell_type": "code",
   "execution_count": 29,
   "metadata": {},
   "outputs": [
    {
     "data": {
      "text/plain": [
       "<Response [200]>"
      ]
     },
     "execution_count": 29,
     "metadata": {},
     "output_type": "execute_result"
    }
   ],
   "source": [
    "from dotenv import load_dotenv\n",
    "import os\n",
    "import requests\n",
    "\n",
    "\n",
    "load_dotenv()\n",
    "\n",
    "\n",
    "API_KEY = os.getenv(\"API_KEY\")\n",
    "\n",
    "url = f\"https://api.resrobot.se/v2.1/location.name?input=Göteborg&format=json&accessId={API_KEY}\"\n",
    "\n",
    "response = requests.get(url)\n",
    "\n",
    "response\n"
   ]
  },
  {
   "cell_type": "code",
   "execution_count": 30,
   "metadata": {},
   "outputs": [
    {
     "name": "stdout",
     "output_type": "stream",
     "text": [
      "dict_keys(['stopLocationOrCoordLocation', 'TechnicalMessages', 'serverVersion', 'dialectVersion', 'requestId'])\n"
     ]
    }
   ],
   "source": [
    "data = response.json()\n",
    "\n",
    "print(data.keys())"
   ]
  },
  {
   "cell_type": "code",
   "execution_count": 31,
   "metadata": {},
   "outputs": [
    {
     "data": {
      "text/plain": [
       "[{'StopLocation': {'productAtStop': [{'icon': {'res': 'prod_gen'}, 'cls': '2'},\n",
       "    {'icon': {'res': 'prod_gen'}, 'cls': '4'},\n",
       "    {'icon': {'res': 'prod_gen'}, 'cls': '8'},\n",
       "    {'icon': {'res': 'prod_gen'}, 'cls': '16'},\n",
       "    {'icon': {'res': 'prod_gen'}, 'cls': '64'},\n",
       "    {'icon': {'res': 'prod_gen'}, 'cls': '128'},\n",
       "    {'icon': {'res': 'prod_gen'}, 'cls': '256'}],\n",
       "   'timezoneOffset': 60,\n",
       "   'id': 'A=1@O=GÖTEBORG@X=11973479@Y=57708895@U=1@L=740098001@B=1@p=1737347805@',\n",
       "   'extId': '740098001',\n",
       "   'name': 'GÖTEBORG',\n",
       "   'lon': 11.973479,\n",
       "   'lat': 57.708895,\n",
       "   'weight': 15625,\n",
       "   'products': 222,\n",
       "   'meta': True,\n",
       "   'minimumChangeDuration': 'PT26M'}},\n",
       " {'StopLocation': {'productAtStop': [{'icon': {'res': 'prod_gen'}, 'cls': '2'},\n",
       "    {'icon': {'res': 'prod_gen'}, 'cls': '4'},\n",
       "    {'icon': {'res': 'prod_gen'}, 'cls': '8'},\n",
       "    {'icon': {'res': 'prod_gen'}, 'cls': '16'},\n",
       "    {'icon': {'res': 'prod_gen'}, 'cls': '64'},\n",
       "    {'icon': {'res': 'prod_gen'}, 'cls': '128'}],\n",
       "   'timezoneOffset': 60,\n",
       "   'id': 'A=1@O=Göteborg Centralstation@X=11973479@Y=57708895@U=1@L=740000002@B=1@p=1737347805@',\n",
       "   'extId': '740000002',\n",
       "   'name': 'Göteborg Centralstation',\n",
       "   'lon': 11.973479,\n",
       "   'lat': 57.708895,\n",
       "   'weight': 9815,\n",
       "   'products': 222,\n",
       "   'minimumChangeDuration': 'PT15M'}},\n",
       " {'StopLocation': {'productAtStop': [{'icon': {'res': 'prod_gen'},\n",
       "     'cls': '128'}],\n",
       "   'timezoneOffset': 60,\n",
       "   'id': 'A=1@O=Göteborg Sävenäs lokstation@X=12021077@Y=57725993@U=1@L=740016365@B=1@p=1737347805@',\n",
       "   'extId': '740016365',\n",
       "   'name': 'Göteborg Sävenäs lokstation',\n",
       "   'lon': 12.021077,\n",
       "   'lat': 57.725993,\n",
       "   'weight': 115,\n",
       "   'products': 128,\n",
       "   'minimumChangeDuration': 'PT5M'}},\n",
       " {'StopLocation': {'productAtStop': [{'icon': {'res': 'prod_gen'},\n",
       "     'cls': '16'},\n",
       "    {'icon': {'res': 'prod_gen'}, 'cls': '64'},\n",
       "    {'icon': {'res': 'prod_gen'}, 'cls': '128'}],\n",
       "   'timezoneOffset': 60,\n",
       "   'id': 'A=1@O=GÖTEBORG GAMLESTADEN@X=12004411@Y=57729148@U=1@L=740098526@B=1@p=1737347805@',\n",
       "   'extId': '740098526',\n",
       "   'name': 'GÖTEBORG GAMLESTADEN',\n",
       "   'lon': 12.004411,\n",
       "   'lat': 57.729148,\n",
       "   'weight': 7867,\n",
       "   'products': 80,\n",
       "   'meta': True,\n",
       "   'minimumChangeDuration': 'PT26M'}},\n",
       " {'StopLocation': {'productAtStop': [{'icon': {'res': 'prod_gen'}, 'cls': '8'},\n",
       "    {'icon': {'res': 'prod_gen'}, 'cls': '64'},\n",
       "    {'icon': {'res': 'prod_gen'}, 'cls': '128'}],\n",
       "   'timezoneOffset': 60,\n",
       "   'id': 'A=1@O=Göteborg Korsvägen@X=11986918@Y=57696742@U=1@L=740015578@B=1@p=1737347805@',\n",
       "   'extId': '740015578',\n",
       "   'name': 'Göteborg Korsvägen',\n",
       "   'lon': 11.986918,\n",
       "   'lat': 57.696742,\n",
       "   'weight': 5833,\n",
       "   'products': 200,\n",
       "   'minimumChangeDuration': 'PT5M'}}]"
      ]
     },
     "execution_count": 31,
     "metadata": {},
     "output_type": "execute_result"
    }
   ],
   "source": [
    "# 'stopLocationOrCoordLocation'\n",
    "stops_data = data.get(\"stopLocationOrCoordLocation\", [])\n",
    "stops_data[:5] \n"
   ]
  },
  {
   "cell_type": "code",
   "execution_count": 32,
   "metadata": {},
   "outputs": [
    {
     "name": "stdout",
     "output_type": "stream",
     "text": [
      "Name                                               extId\n",
      "GÖTEBORG                                           740098001\n",
      "Göteborg Centralstation                            740000002\n",
      "Göteborg Sävenäs lokstation                        740016365\n",
      "GÖTEBORG GAMLESTADEN                               740098526\n",
      "Göteborg Korsvägen                                 740015578\n",
      "Göteborg Kungsportsplatsen                         740016358\n",
      "Göteborg Stenpiren                                 740072430\n",
      "Göteborg Eketrägatan                               740025624\n",
      "Göteborg Vårväderstorget                           740025707\n",
      "Göteborg Axel Dahlströms torg                      740025608\n",
      "Empty DataFrame\n",
      "Columns: []\n",
      "Index: []\n"
     ]
    }
   ],
   "source": [
    "from backend.connect_to_api import ResRobot  \n",
    "import pandas as pd\n",
    "\n",
    "\n",
    "resrobot = ResRobot()\n",
    "\n",
    "\n",
    "location = \"Göteborg\"\n",
    "stops = resrobot.access_id_from_location(location)\n",
    "\n",
    "\n",
    "df_stops = pd.DataFrame(stops)\n",
    "\n",
    "\n",
    "print(df_stops.head())\n",
    "\n",
    "# verkar inte gå att få alla hållplatser inom visa koordinater med denna api:n får testa en annan. Denna api:n tar bara hållplatser baserat på namn input.\n"
   ]
  },
  {
   "cell_type": "markdown",
   "metadata": {},
   "source": [
    "# Nearby stop api\n"
   ]
  },
  {
   "cell_type": "code",
   "execution_count": 33,
   "metadata": {},
   "outputs": [
    {
     "data": {
      "text/plain": [
       "<Response [200]>"
      ]
     },
     "execution_count": 33,
     "metadata": {},
     "output_type": "execute_result"
    }
   ],
   "source": [
    "\n",
    "url = f\"https://api.resrobot.se/v2.1/location.nearbystops?originCoordLat=57.708895&originCoordLong=11.973479&format=json&accessId={API_KEY}\"\n",
    "\n",
    "response = requests.get(url)\n",
    "\n",
    "response"
   ]
  },
  {
   "cell_type": "code",
   "execution_count": 36,
   "metadata": {},
   "outputs": [
    {
     "data": {
      "text/plain": [
       "dict_keys(['stopLocationOrCoordLocation', 'TechnicalMessages', 'serverVersion', 'dialectVersion', 'requestId'])"
      ]
     },
     "execution_count": 36,
     "metadata": {},
     "output_type": "execute_result"
    }
   ],
   "source": [
    "data = response.json()  \n",
    "data.keys() "
   ]
  },
  {
   "cell_type": "code",
   "execution_count": 37,
   "metadata": {},
   "outputs": [
    {
     "data": {
      "text/plain": [
       "[{'StopLocation': {'productAtStop': [{'icon': {'res': 'prod_gen'}, 'cls': '2'},\n",
       "    {'icon': {'res': 'prod_gen'}, 'cls': '4'},\n",
       "    {'icon': {'res': 'prod_gen'}, 'cls': '16'},\n",
       "    {'icon': {'res': 'prod_gen'}, 'cls': '128'}],\n",
       "   'timezoneOffset': 60,\n",
       "   'id': 'A=1@O=Göteborg Centralstation@X=11973479@Y=57708895@U=1@L=740000002@',\n",
       "   'extId': '740000002',\n",
       "   'name': 'Göteborg Centralstation',\n",
       "   'lon': 11.973479,\n",
       "   'lat': 57.708895,\n",
       "   'weight': 9815,\n",
       "   'dist': 0,\n",
       "   'products': 150,\n",
       "   'minimumChangeDuration': 'PT15M'}},\n",
       " {'StopLocation': {'productAtStop': [{'icon': {'res': 'prod_gen'},\n",
       "     'cls': '64'},\n",
       "    {'icon': {'res': 'prod_gen'}, 'cls': '128'}],\n",
       "   'timezoneOffset': 60,\n",
       "   'id': 'A=1@O=Göteborg Centralst Drottningt@X=11973740@Y=57707898@U=1@L=740030117@',\n",
       "   'extId': '740030117',\n",
       "   'name': 'Göteborg Centralst Drottningt',\n",
       "   'lon': 11.97374,\n",
       "   'lat': 57.707898,\n",
       "   'weight': 4608,\n",
       "   'dist': 112,\n",
       "   'products': 192,\n",
       "   'minimumChangeDuration': 'PT5M'}},\n",
       " {'StopLocation': {'productAtStop': [{'icon': {'res': 'prod_gen'}, 'cls': '8'},\n",
       "    {'icon': {'res': 'prod_gen'}, 'cls': '128'}],\n",
       "   'timezoneOffset': 60,\n",
       "   'id': 'A=1@O=Göteborg Åkareplatsen@X=11975942@Y=57708329@U=1@L=740020490@',\n",
       "   'extId': '740020490',\n",
       "   'name': 'Göteborg Åkareplatsen',\n",
       "   'lon': 11.975942,\n",
       "   'lat': 57.708329,\n",
       "   'weight': 550,\n",
       "   'dist': 159,\n",
       "   'products': 136,\n",
       "   'minimumChangeDuration': 'PT5M'}},\n",
       " {'StopLocation': {'productAtStop': [{'icon': {'res': 'prod_gen'},\n",
       "     'cls': '64'},\n",
       "    {'icon': {'res': 'prod_gen'}, 'cls': '128'}],\n",
       "   'timezoneOffset': 60,\n",
       "   'id': 'A=1@O=Göteborg Nordstan@X=11970791@Y=57709246@U=1@L=740015585@',\n",
       "   'extId': '740015585',\n",
       "   'name': 'Göteborg Nordstan',\n",
       "   'lon': 11.970791,\n",
       "   'lat': 57.709246,\n",
       "   'weight': 2439,\n",
       "   'dist': 164,\n",
       "   'products': 192,\n",
       "   'minimumChangeDuration': 'PT3M'}},\n",
       " {'StopLocation': {'productAtStop': [{'icon': {'res': 'prod_gen'}, 'cls': '8'},\n",
       "    {'icon': {'res': 'prod_gen'}, 'cls': '128'}],\n",
       "   'timezoneOffset': 60,\n",
       "   'id': 'A=1@O=Göteborg Nils Ericsonterminal@X=11971852@Y=57710271@U=1@L=740020483@',\n",
       "   'extId': '740020483',\n",
       "   'name': 'Göteborg Nils Ericsonterminal',\n",
       "   'lon': 11.971852,\n",
       "   'lat': 57.710271,\n",
       "   'weight': 1758,\n",
       "   'dist': 180,\n",
       "   'products': 136,\n",
       "   'minimumChangeDuration': 'PT5M'}},\n",
       " {'StopLocation': {'productAtStop': [{'icon': {'res': 'prod_gen'},\n",
       "     'cls': '128'}],\n",
       "   'timezoneOffset': 60,\n",
       "   'id': 'A=1@O=Göteborg Polhemsplatsen@X=11977317@Y=57708320@U=1@L=740059478@',\n",
       "   'extId': '740059478',\n",
       "   'name': 'Göteborg Polhemsplatsen',\n",
       "   'lon': 11.977317,\n",
       "   'lat': 57.70832,\n",
       "   'weight': 533,\n",
       "   'dist': 236,\n",
       "   'products': 128,\n",
       "   'minimumChangeDuration': 'PT5M'}},\n",
       " {'StopLocation': {'productAtStop': [{'icon': {'res': 'prod_gen'},\n",
       "     'cls': '64'},\n",
       "    {'icon': {'res': 'prod_gen'}, 'cls': '128'}],\n",
       "   'timezoneOffset': 60,\n",
       "   'id': 'A=1@O=Göteborg Brunnsparken@X=11967843@Y=57706945@U=1@L=740020752@',\n",
       "   'extId': '740020752',\n",
       "   'name': 'Göteborg Brunnsparken',\n",
       "   'lon': 11.967843,\n",
       "   'lat': 57.706945,\n",
       "   'weight': 4608,\n",
       "   'dist': 399,\n",
       "   'products': 192,\n",
       "   'minimumChangeDuration': 'PT5M'}},\n",
       " {'StopLocation': {'productAtStop': [{'icon': {'res': 'prod_gen'},\n",
       "     'cls': '64'},\n",
       "    {'icon': {'res': 'prod_gen'}, 'cls': '128'}],\n",
       "   'timezoneOffset': 60,\n",
       "   'id': 'A=1@O=Göteborg Lilla Bommen@X=11966036@Y=57709552@U=1@L=740016360@',\n",
       "   'extId': '740016360',\n",
       "   'name': 'Göteborg Lilla Bommen',\n",
       "   'lon': 11.966036,\n",
       "   'lat': 57.709552,\n",
       "   'weight': 2439,\n",
       "   'dist': 448,\n",
       "   'products': 192,\n",
       "   'minimumChangeDuration': 'PT5M'}},\n",
       " {'StopLocation': {'productAtStop': [{'icon': {'res': 'prod_gen'},\n",
       "     'cls': '256'}],\n",
       "   'timezoneOffset': 60,\n",
       "   'id': 'A=1@O=Lilla Bommens Hamn (Göteborg kn)@X=11966036@Y=57711817@U=1@L=740059396@',\n",
       "   'extId': '740059396',\n",
       "   'name': 'Lilla Bommens Hamn (Göteborg kn)',\n",
       "   'lon': 11.966036,\n",
       "   'lat': 57.711817,\n",
       "   'weight': 155,\n",
       "   'dist': 548,\n",
       "   'products': 256,\n",
       "   'minimumChangeDuration': 'PT5M'}},\n",
       " {'StopLocation': {'productAtStop': [{'icon': {'res': 'prod_gen'},\n",
       "     'cls': '128'}],\n",
       "   'timezoneOffset': 60,\n",
       "   'id': 'A=1@O=Operan (Göteborg kn)@X=11964265@Y=57710576@U=1@L=740074272@',\n",
       "   'extId': '740074272',\n",
       "   'name': 'Operan (Göteborg kn)',\n",
       "   'lon': 11.964265,\n",
       "   'lat': 57.710576,\n",
       "   'weight': 533,\n",
       "   'dist': 578,\n",
       "   'products': 128,\n",
       "   'minimumChangeDuration': 'PT5M'}}]"
      ]
     },
     "execution_count": 37,
     "metadata": {},
     "output_type": "execute_result"
    }
   ],
   "source": [
    "stops_data = data.get(\"stopLocationOrCoordLocation\", [])\n",
    "\n",
    "stops_data\n",
    "\n",
    "''' Varje objekt innehåller en \"stoplocation\" med fält som name, lon och lat, products(typ av transport), dist(avstånd till punkten?!) och extId(unik identifierare)'''"
   ]
  }
 ],
 "metadata": {
  "kernelspec": {
   "display_name": ".venv",
   "language": "python",
   "name": "python3"
  },
  "language_info": {
   "codemirror_mode": {
    "name": "ipython",
    "version": 3
   },
   "file_extension": ".py",
   "mimetype": "text/x-python",
   "name": "python",
   "nbconvert_exporter": "python",
   "pygments_lexer": "ipython3",
   "version": "3.11.7"
  }
 },
 "nbformat": 4,
 "nbformat_minor": 2
}
